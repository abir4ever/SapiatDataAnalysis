{
 "cells": [
  {
   "cell_type": "code",
   "execution_count": 72,
   "metadata": {},
   "outputs": [
    {
     "name": "stdout",
     "output_type": "stream",
     "text": [
      "Populating the interactive namespace from numpy and matplotlib\n"
     ]
    },
    {
     "data": {
      "text/html": [
       "        <script type=\"text/javascript\">\n",
       "        window.PlotlyConfig = {MathJaxConfig: 'local'};\n",
       "        if (window.MathJax) {MathJax.Hub.Config({SVG: {font: \"STIX-Web\"}});}\n",
       "        if (typeof require !== 'undefined') {\n",
       "        require.undef(\"plotly\");\n",
       "        requirejs.config({\n",
       "            paths: {\n",
       "                'plotly': ['https://cdn.plot.ly/plotly-latest.min']\n",
       "            }\n",
       "        });\n",
       "        require(['plotly'], function(Plotly) {\n",
       "            window._Plotly = Plotly;\n",
       "        });\n",
       "        }\n",
       "        </script>\n",
       "        "
      ]
     },
     "metadata": {},
     "output_type": "display_data"
    }
   ],
   "source": [
    "# importing necessary libraries\n",
    "import pandas as pd\n",
    "import numpy as np\n",
    "import plotly as py\n",
    "import plotly.express as px\n",
    "import plotly.graph_objects as go\n",
    "import matplotlib.pylab as plt\n",
    "import warnings \n",
    "warnings.filterwarnings(\"ignore\")\n",
    "%matplotlib inline\n",
    "from pathlib import Path\n",
    "import prettytable\n",
    "import plotly.offline as pyo\n",
    "import plotly.graph_objs as go\n",
    "import plotly.io as pio\n",
    "from scipy.stats.mstats import gmean\n",
    "%pylab inline\n",
    "from IPython.core.interactiveshell import InteractiveShell\n",
    "InteractiveShell.ast_node_interactivity = \"all\"\n",
    "import warnings\n",
    "import glob \n",
    "warnings.simplefilter(action='ignore')\n",
    "pio.renderers.default = 'iframe'\n",
    "import ipywidgets as widgets\n",
    "pyo.init_notebook_mode(connected = True)\n",
    "from ipywidgets import interactive, HBox, VBox, widgets, interact\n",
    "from ipywidgets import FloatSlider"
   ]
  },
  {
   "cell_type": "code",
   "execution_count": 73,
   "metadata": {},
   "outputs": [],
   "source": [
    "def summary_metrics(R,rf_annual=0.01, show=False):\n",
    "\n",
    "    pt = prettytable.PrettyTable(['metric', 'value'])\n",
    "\n",
    "    avg = np.mean(R)\n",
    "    std_dev = np.std(R)\n",
    "    rf = rf_annual / 252\n",
    "    count = len(R)\n",
    "    sharpe = (avg) / std_dev * np.sqrt(252)\n",
    "\n",
    "    avg_annualized_return = (((1 + avg) ** 252) - 1)\n",
    "    geo_mean = gmean(R + 1) - 1\n",
    "    annualized_std = std_dev * np.sqrt(252)\n",
    "\n",
    "    cumulative_end_return = np.cumsum(R).tail(1).values\n",
    "\n",
    "    win = len(R[R >= 0])\n",
    "    loss = len(R[R < 0])\n",
    "    win_loss = win / loss\n",
    "    win_ratio = win / (loss + win)\n",
    "\n",
    "    rpt = {'mean': round(avg,4),\n",
    "#            'avg_annualized_ret': avg_annualized_return,\n",
    "#            'geometric_mean': geo_mean,\n",
    "#            'cum_end_return': cumulative_end_return,\n",
    "           'std_dev': std_dev,\n",
    "#            'annualized_std': annualized_std,\n",
    "           'Sharpe_ratio': round(sharpe,4),\n",
    "#            'skewness': R.skew(),\n",
    "#            'kurtosis': R.kurtosis(),\n",
    "           'drawdown': get_drawdown(R),\n",
    "#            'win_loss': win_loss,\n",
    "           'win_ratio': round(win_ratio,4),\n",
    "           'count': count\n",
    "           }\n",
    "    for (k, v) in rpt.items():\n",
    "        pt.add_row([k, v])\n",
    "\n",
    "    if show:\n",
    "        print(pt)\n",
    "\n",
    "    return rpt"
   ]
  },
  {
   "cell_type": "code",
   "execution_count": 74,
   "metadata": {},
   "outputs": [],
   "source": [
    "def get_drawdown(R):\n",
    "    # Calculated the peak\n",
    "    peak = R.cummax()\n",
    "    # Calculated difference of daily returns from the peak\n",
    "    daily_drawdown = np.where(R!=peak,R-peak,0)\n",
    "    # Found the maximum drop\n",
    "    drawdown_percent = abs(daily_drawdown)/peak*100\n",
    "    return (round(drawdown_percent.max(),4))"
   ]
  },
  {
   "cell_type": "code",
   "execution_count": 75,
   "metadata": {},
   "outputs": [],
   "source": [
    "def compare_low(rpt_his_low,rpt_hat_low,rpt_lr_low):\n",
    "    table_low = prettytable.PrettyTable(['metric', 'covar_his_low', 'covar_MGARCH_low', 'covar_LR_low'])\n",
    "    for (k, v) in rpt_his_low.items():\n",
    "        row = [k, v, rpt_hat_low[k],rpt_lr_low[k]]\n",
    "        table_low.add_row(row)\n",
    "    print(table_low)\n",
    "    return table_low\n",
    "\n",
    "def compare_med(rpt_his_med,rpt_hat_med,rpt_lr_med):\n",
    "    table_med = prettytable.PrettyTable(['metric', 'covar_his_med', 'covar_MGARCH_med','covar_LR_med'])\n",
    "    for (k, v) in rpt_his_med.items():\n",
    "        row = [k, v, rpt_hat_med[k],rpt_lr_med[k]]\n",
    "        table_med.add_row(row)\n",
    "    print(table_med)\n",
    "    return table_med\n",
    "\n",
    "def compare_high(rpt_his_high,rpt_hat_high,rpt_lr_high):\n",
    "    table_high = prettytable.PrettyTable(['metric', 'covar_his_high', 'covar_MGARCH_high','covar_LR_high'])\n",
    "    for (k, v) in rpt_his_high.items():\n",
    "        row = [k, v, rpt_hat_high[k],rpt_lr_high[k]]\n",
    "        table_high.add_row(row)\n",
    "    print(table_high)\n",
    "    return table_high"
   ]
  },
  {
   "cell_type": "code",
   "execution_count": 76,
   "metadata": {},
   "outputs": [],
   "source": [
    "filenametab = []\n",
    "for filename in glob.glob('../outputdata/Stage2/Returns/*.csv'):\n",
    "    filenametab.append(filename)\n",
    "filenametab.sort(reverse=True)\n",
    "\n",
    "returns = pd.read_csv(filenametab[0], parse_dates=True)\n",
    "returns['date']= pd.to_datetime(returns.date)\n",
    "returns.set_index('date', inplace=True)"
   ]
  },
  {
   "cell_type": "code",
   "execution_count": 77,
   "metadata": {},
   "outputs": [],
   "source": [
    "# filenametab[0]"
   ]
  },
  {
   "cell_type": "code",
   "execution_count": 78,
   "metadata": {},
   "outputs": [],
   "source": [
    "initial_investment = 100.00"
   ]
  },
  {
   "cell_type": "code",
   "execution_count": 79,
   "metadata": {},
   "outputs": [],
   "source": [
    "def apply_cumsum(returns_series):\n",
    "    cumsumret = (returns_series.add(1).cumprod()) * initial_investment\n",
    "    cumsumret.iat[0] = initial_investment\n",
    "    return cumsumret"
   ]
  },
  {
   "cell_type": "code",
   "execution_count": 80,
   "metadata": {},
   "outputs": [],
   "source": [
    "returns['ret_low_his_cum'] = apply_cumsum(returns.ret_low_his)\n",
    "returns['ret_low_hat_cum'] = apply_cumsum(returns.ret_low_hat)\n",
    "returns['ret_low_lr_cum'] = apply_cumsum(returns.ret_low_lr)\n",
    "\n",
    "returns['ret_med_his_cum'] = apply_cumsum(returns.ret_med_his)\n",
    "returns['ret_med_hat_cum'] = apply_cumsum(returns.ret_med_hat)\n",
    "returns['ret_med_lr_cum'] = apply_cumsum(returns.ret_med_lr)\n",
    "\n",
    "returns['ret_high_his_cum'] = apply_cumsum(returns.ret_high_his)\n",
    "returns['ret_high_hat_cum'] = apply_cumsum(returns.ret_high_hat)\n",
    "returns['ret_high_lr_cum'] = apply_cumsum(returns.ret_high_lr)"
   ]
  },
  {
   "cell_type": "markdown",
   "metadata": {},
   "source": [
    "## Comparing results for low risk level – 0.003 for a 252 Days look back at actual return values"
   ]
  },
  {
   "cell_type": "code",
   "execution_count": 81,
   "metadata": {},
   "outputs": [
    {
     "name": "stdout",
     "output_type": "stream",
     "text": [
      "+--------------+-----------------------+----------------------+----------------------+\n",
      "|    metric    |     covar_his_low     |   covar_MGARCH_low   |     covar_LR_low     |\n",
      "+--------------+-----------------------+----------------------+----------------------+\n",
      "|     mean     |         0.0001        |        0.0001        |        0.0001        |\n",
      "|   std_dev    | 0.0038697594527083434 | 0.004782316745815615 | 0.003557650431954714 |\n",
      "| Sharpe_ratio |         0.5046        |        0.2778        |        0.5058        |\n",
      "|   drawdown   |        304.1274       |       310.0732       |       288.0784       |\n",
      "|  win_ratio   |         0.5292        |        0.5236        |        0.5337        |\n",
      "|    count     |          2479         |         2479         |         2479         |\n",
      "+--------------+-----------------------+----------------------+----------------------+\n"
     ]
    }
   ],
   "source": [
    "compare_low(summary_metrics(returns.ret_low_his),summary_metrics(returns.ret_low_hat),summary_metrics(returns.ret_low_lr));"
   ]
  },
  {
   "cell_type": "markdown",
   "metadata": {},
   "source": [
    "## Comparing cummulative Dollar Return from for low risk level – 0.003 for a 252 Days look back at actual return values"
   ]
  },
  {
   "cell_type": "code",
   "execution_count": 82,
   "metadata": {},
   "outputs": [
    {
     "data": {
      "application/vnd.jupyter.widget-view+json": {
       "model_id": "60e5d2876c324c5f894ce6a67782f266",
       "version_major": 2,
       "version_minor": 0
      },
      "text/plain": [
       "interactive(children=(FloatRangeSlider(value=(2012.5, 2017.5), description='Year', layout=Layout(width='900px'…"
      ]
     },
     "metadata": {},
     "output_type": "display_data"
    }
   ],
   "source": [
    "# final_csv_output_plt = returns[[col for col in returns.columns if col.startswith('ret_')]]\n",
    "final_csv_output_plt = returns\n",
    "final_csv_output_plt['year'] = returns.index.year\n",
    "xmin = final_csv_output_plt.year.unique().min()\n",
    "xmax = final_csv_output_plt.year.unique().max()\n",
    "slider = widgets.FloatRangeSlider(\n",
    "    min=xmin,\n",
    "    max=xmax,\n",
    "    step=1,\n",
    "    readout=True,\n",
    "    readout_format='d',\n",
    "    orientation='horizontal',\n",
    "    description='Year')\n",
    "slider.layout.width = '900px'\n",
    "def update_plot(y):\n",
    "    filtered_df = final_csv_output_plt.query( 'year>= ' + str(y[0]) +'and year<= ' + str(y[1]) )\n",
    "    pyo.iplot(go.Figure(data=[\n",
    "    go.Scatter(x=filtered_df.index, y = filtered_df.ret_low_hat_cum,mode = 'lines',name = 'Low Risk MGARCH Return'),\n",
    "    go.Scatter(x=filtered_df.index,y = filtered_df.ret_low_his_cum,mode = 'lines',name = 'Low Risk Historical Return'),\n",
    "    go.Scatter(x=filtered_df.index,y = filtered_df.ret_low_lr_cum,mode = 'lines',name = 'Low Risk Liner Regression Return'),    \n",
    "#     go.Scatter(x=filtered_df.index, y = np.cumsum(filtered_df.ret_low_hat),mode = 'lines',name = 'Low Risk MGARCH Return'),\n",
    "#     go.Scatter(x=filtered_df.index,y = np.cumsum(filtered_df.ret_low_his),mode = 'lines',name = 'Low Risk Historical Return'),\n",
    "#     go.Scatter(x=filtered_df.index,y = np.cumsum(filtered_df.equity_daily_ret),mode = 'lines',name = 'Daily Equity Return'),\n",
    "#     go.Scatter(x=filtered_df.index,y = np.cumsum(filtered_df.bond_daily_ret),mode = 'lines',name = 'Daily Bond Return'),\n",
    "#     go.Scatter(x=filtered_df.index,y = np.cumsum(filtered_df.gold_daily_ret),mode = 'lines',name = 'Daily Gold Return'),\n",
    "#     go.Scatter(x=filtered_df.index,y = np.cumsum(filtered_df.forex_daily_ret),mode = 'lines',name = 'Daily Forex Return'),\n",
    "    ],\n",
    "    layout=go.Layout(xaxis = dict(title = 'Year'), yaxis = dict(title = 'Return in USD'),title = 'Low Risk Portfolio MGARCH/Historical/LR Return from Year ' + str(int(y[0])) + ' To ' + str(int(y[1])))))\n",
    "widgets.interact(update_plot, y=slider, continuous_update=False);"
   ]
  },
  {
   "cell_type": "markdown",
   "metadata": {},
   "source": [
    "## Comparing results for Medium risk level – 0.005 for a 252 Days look back at actual return values"
   ]
  },
  {
   "cell_type": "code",
   "execution_count": 83,
   "metadata": {},
   "outputs": [
    {
     "name": "stdout",
     "output_type": "stream",
     "text": [
      "+--------------+----------------------+----------------------+----------------------+\n",
      "|    metric    |    covar_his_med     |   covar_MGARCH_med   |     covar_LR_med     |\n",
      "+--------------+----------------------+----------------------+----------------------+\n",
      "|     mean     |        0.0002        |        0.0001        |        0.0002        |\n",
      "|   std_dev    | 0.006271153610778827 | 0.007857385704252708 | 0.006023019874247706 |\n",
      "| Sharpe_ratio |        0.4388        |        0.1873        |        0.4206        |\n",
      "|   drawdown   |       324.2333       |       327.6176       |        289.21        |\n",
      "|  win_ratio   |        0.5345        |        0.5296        |        0.5333        |\n",
      "|    count     |         2479         |         2479         |         2479         |\n",
      "+--------------+----------------------+----------------------+----------------------+\n"
     ]
    }
   ],
   "source": [
    "compare_med(summary_metrics(returns.ret_med_his),summary_metrics(returns.ret_med_hat),summary_metrics(returns.ret_med_lr));"
   ]
  },
  {
   "cell_type": "markdown",
   "metadata": {},
   "source": [
    "## Comparing cummulative Dollar Return from for Medium risk level – 0.005 for a 252 Days look back at actual return values"
   ]
  },
  {
   "cell_type": "code",
   "execution_count": 84,
   "metadata": {},
   "outputs": [
    {
     "data": {
      "application/vnd.jupyter.widget-view+json": {
       "model_id": "5155710255574c6fa2dd8736f4fe2bf3",
       "version_major": 2,
       "version_minor": 0
      },
      "text/plain": [
       "interactive(children=(FloatRangeSlider(value=(2012.5, 2017.5), description='Year', layout=Layout(width='900px'…"
      ]
     },
     "metadata": {},
     "output_type": "display_data"
    }
   ],
   "source": [
    "final_csv_output_plt = returns[[col for col in returns.columns if col.startswith('ret_')]]\n",
    "final_csv_output_plt['year'] = returns.index.year\n",
    "xmin = final_csv_output_plt.year.unique().min()\n",
    "xmax = final_csv_output_plt.year.unique().max()\n",
    "slider = widgets.FloatRangeSlider(\n",
    "    min=xmin,\n",
    "    max=xmax,\n",
    "    step=1,\n",
    "    readout=True,\n",
    "    readout_format='d',\n",
    "    orientation='horizontal',\n",
    "    description='Year')\n",
    "slider.layout.width = '900px'\n",
    "def update_plot(y):\n",
    "    filtered_df = final_csv_output_plt.query( 'year>= ' + str(y[0]) +'and year<= ' + str(y[1]) )\n",
    "    pyo.iplot(go.Figure(data=[\n",
    "       \n",
    "#     go.Scatter(x=filtered_df.index,y = np.cumsum(filtered_df.ret_med_hat),mode = 'lines',name = 'Medium Risk MGARCH Return'),\n",
    "#     go.Scatter(x=filtered_df.index,y = np.cumsum(filtered_df.ret_med_his),mode = 'lines',name = 'Medium Risk Historical Return'),\n",
    "    go.Scatter(x=filtered_df.index,y = filtered_df.ret_med_hat_cum,mode = 'lines',name = 'Medium Risk MGARCH Return'),\n",
    "    go.Scatter(x=filtered_df.index,y = filtered_df.ret_med_his_cum,mode = 'lines',name = 'Medium Risk Historical Return'),\n",
    "    go.Scatter(x=filtered_df.index,y = filtered_df.ret_med_lr_cum,mode = 'lines',name = 'Medium Risk Linear Regression Return')\n",
    "\n",
    "    ],\n",
    "    layout=go.Layout(xaxis = dict(title = 'Year'), yaxis = dict(title = 'Return in USD'),title = 'Medium Risk Portfolio MGARCH/Historical/LR Return from Year ' + str(int(y[0])) + ' To ' + str(int(y[1])))))\n",
    "widgets.interact(update_plot, y=slider, continuous_update=False);"
   ]
  },
  {
   "cell_type": "markdown",
   "metadata": {},
   "source": [
    "## Comparing results for High risk level – 0.007 for a 252 Days look back at actual return values"
   ]
  },
  {
   "cell_type": "code",
   "execution_count": 85,
   "metadata": {},
   "outputs": [
    {
     "name": "stdout",
     "output_type": "stream",
     "text": [
      "+--------------+----------------------+----------------------+----------------------+\n",
      "|    metric    |    covar_his_high    |  covar_MGARCH_high   |    covar_LR_high     |\n",
      "+--------------+----------------------+----------------------+----------------------+\n",
      "|     mean     |        0.0002        |        0.0001        |        0.0002        |\n",
      "|   std_dev    | 0.008208600419745752 | 0.009287279289386125 | 0.008498831995854054 |\n",
      "| Sharpe_ratio |        0.3273        |        0.1709        |        0.3523        |\n",
      "|   drawdown   |       296.4989       |       346.5857       |       293.0705       |\n",
      "|  win_ratio   |        0.5341        |        0.5333        |        0.5377        |\n",
      "|    count     |         2479         |         2479         |         2479         |\n",
      "+--------------+----------------------+----------------------+----------------------+\n"
     ]
    }
   ],
   "source": [
    "compare_high(summary_metrics(returns.ret_high_his),summary_metrics(returns.ret_high_hat),summary_metrics(returns.ret_high_lr));"
   ]
  },
  {
   "cell_type": "markdown",
   "metadata": {},
   "source": [
    "## Comparing cummulative Dollar Return from for high risk level – 0.007 for a 252 Days look back at actual return values"
   ]
  },
  {
   "cell_type": "code",
   "execution_count": 86,
   "metadata": {},
   "outputs": [
    {
     "data": {
      "application/vnd.jupyter.widget-view+json": {
       "model_id": "737973205ec04a04b93a6531aab7159e",
       "version_major": 2,
       "version_minor": 0
      },
      "text/plain": [
       "interactive(children=(FloatRangeSlider(value=(2012.5, 2017.5), description='Year', layout=Layout(width='900px'…"
      ]
     },
     "metadata": {},
     "output_type": "display_data"
    }
   ],
   "source": [
    "final_csv_output_plt = returns[[col for col in returns.columns if col.startswith('ret_')]]\n",
    "final_csv_output_plt['year'] = returns.index.year\n",
    "xmin = final_csv_output_plt.year.unique().min()\n",
    "xmax = final_csv_output_plt.year.unique().max()\n",
    "slider = widgets.FloatRangeSlider(\n",
    "    min=xmin,\n",
    "    max=xmax,\n",
    "    step=1,\n",
    "    readout=True,\n",
    "    readout_format='d',\n",
    "    orientation='horizontal',\n",
    "    description='Year')\n",
    "slider.layout.width = '900px'\n",
    "def update_plot(y):\n",
    "    filtered_df = final_csv_output_plt.query( 'year>= ' + str(y[0]) +'and year<= ' + str(y[1]) )\n",
    "    pyo.iplot(go.Figure(data=[\n",
    "#     go.Scatter(x=filtered_df.index,y = np.cumsum(filtered_df.ret_high_hat),mode = 'lines',name = 'High Risk MGARCH Return'),\n",
    "#     go.Scatter(x=filtered_df.index,y = np.cumsum(filtered_df.ret_high_his),mode = 'lines',name = 'High Risk Historical Return')\n",
    "    go.Scatter(x=filtered_df.index,y = filtered_df.ret_high_hat_cum,mode = 'lines',name = 'High Risk MGARCH Return'),\n",
    "    go.Scatter(x=filtered_df.index,y = filtered_df.ret_high_his_cum,mode = 'lines',name = 'High Risk Historical Return'),\n",
    "    go.Scatter(x=filtered_df.index,y = filtered_df.ret_high_lr_cum,mode = 'lines',name = 'High Risk Linear Regression Return')\n",
    "   ],\n",
    "    layout=go.Layout(xaxis = dict(title = 'Year'), yaxis = dict(title = 'Return in USD'),title = 'High Risk Portfolio MGARCH/Historical/LR Return from Year ' + str(int(y[0])) + ' To ' + str(int(y[1])))))\n",
    "widgets.interact(update_plot, y=slider, continuous_update=False);"
   ]
  }
 ],
 "metadata": {
  "kernelspec": {
   "display_name": "Python 3",
   "language": "python",
   "name": "python3"
  },
  "language_info": {
   "codemirror_mode": {
    "name": "ipython",
    "version": 3
   },
   "file_extension": ".py",
   "mimetype": "text/x-python",
   "name": "python",
   "nbconvert_exporter": "python",
   "pygments_lexer": "ipython3",
   "version": "3.7.4"
  }
 },
 "nbformat": 4,
 "nbformat_minor": 4
}
