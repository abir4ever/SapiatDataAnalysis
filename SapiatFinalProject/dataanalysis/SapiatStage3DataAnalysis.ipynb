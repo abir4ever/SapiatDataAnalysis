{
 "cells": [
  {
   "cell_type": "code",
   "execution_count": 1,
   "metadata": {},
   "outputs": [
    {
     "name": "stdout",
     "output_type": "stream",
     "text": [
      "Populating the interactive namespace from numpy and matplotlib\n"
     ]
    },
    {
     "data": {
      "text/html": [
       "        <script type=\"text/javascript\">\n",
       "        window.PlotlyConfig = {MathJaxConfig: 'local'};\n",
       "        if (window.MathJax) {MathJax.Hub.Config({SVG: {font: \"STIX-Web\"}});}\n",
       "        if (typeof require !== 'undefined') {\n",
       "        require.undef(\"plotly\");\n",
       "        requirejs.config({\n",
       "            paths: {\n",
       "                'plotly': ['https://cdn.plot.ly/plotly-latest.min']\n",
       "            }\n",
       "        });\n",
       "        require(['plotly'], function(Plotly) {\n",
       "            window._Plotly = Plotly;\n",
       "        });\n",
       "        }\n",
       "        </script>\n",
       "        "
      ]
     },
     "metadata": {},
     "output_type": "display_data"
    }
   ],
   "source": [
    "# importing necessary libraries\n",
    "import pandas as pd\n",
    "import numpy as np\n",
    "import plotly as py\n",
    "import plotly.express as px\n",
    "import plotly.graph_objects as go\n",
    "import matplotlib.pylab as plt\n",
    "import warnings \n",
    "warnings.filterwarnings(\"ignore\")\n",
    "%matplotlib inline\n",
    "from pathlib import Path\n",
    "import prettytable\n",
    "import plotly.offline as pyo\n",
    "import plotly.graph_objs as go\n",
    "import plotly.io as pio\n",
    "from scipy.stats.mstats import gmean\n",
    "%pylab inline\n",
    "from IPython.core.interactiveshell import InteractiveShell\n",
    "InteractiveShell.ast_node_interactivity = \"all\"\n",
    "import warnings\n",
    "import glob \n",
    "warnings.simplefilter(action='ignore')\n",
    "pio.renderers.default = 'iframe'\n",
    "import ipywidgets as widgets\n",
    "pyo.init_notebook_mode(connected = True)\n",
    "from ipywidgets import interactive, HBox, VBox, widgets, interact\n",
    "from ipywidgets import FloatSlider"
   ]
  },
  {
   "cell_type": "code",
   "execution_count": 2,
   "metadata": {},
   "outputs": [],
   "source": [
    "def summary_metrics(R,rf_annual=0.01, show=False):\n",
    "\n",
    "    pt = prettytable.PrettyTable(['metric', 'value'])\n",
    "\n",
    "    avg = np.mean(R)\n",
    "    std_dev = np.std(R)\n",
    "    rf = rf_annual / 252\n",
    "    count = len(R)\n",
    "    sharpe = (avg - rf) / std_dev * np.sqrt(252)\n",
    "\n",
    "    avg_annualized_return = (((1 + avg) ** 252) - 1)\n",
    "    geo_mean = gmean(R + 1) - 1\n",
    "    annualized_std = std_dev * np.sqrt(252)\n",
    "\n",
    "    cumulative_end_return = np.cumsum(R).tail(1).values\n",
    "\n",
    "    win = len(R[R >= 0])\n",
    "    loss = len(R[R < 0])\n",
    "    win_loss = win / loss\n",
    "    win_ratio = win / (loss + win)\n",
    "\n",
    "    rpt = {'mean': avg,\n",
    "           'avg_annualized_ret': avg_annualized_return,\n",
    "           'geometric_mean': geo_mean,\n",
    "           'cum_end_return': cumulative_end_return,\n",
    "           'std_dev': std_dev,\n",
    "           'annualized_std': annualized_std,\n",
    "           'Sharpe_ratio': sharpe,\n",
    "           'skewness': R.skew(),\n",
    "           'kurtosis': R.kurtosis(),\n",
    "           'drawdown': get_drawdown(R),\n",
    "           'win_loss': win_loss,\n",
    "           'win_ratio': win_ratio,\n",
    "           'count': count\n",
    "           }\n",
    "    for (k, v) in rpt.items():\n",
    "        pt.add_row([k, v])\n",
    "\n",
    "    if show:\n",
    "        print(pt)\n",
    "\n",
    "    return rpt"
   ]
  },
  {
   "cell_type": "code",
   "execution_count": 3,
   "metadata": {},
   "outputs": [],
   "source": [
    "def get_drawdown(R):\n",
    "    # Calculated the peak\n",
    "    roll_max = R.max()\n",
    "    # Calculated difference of daily returns from the peak\n",
    "    daily_drawdown = R/roll_max - 1.0\n",
    "    # Found the maximum drop\n",
    "    max_daily_drawdown = daily_drawdown.min()\n",
    "    return max_daily_drawdown"
   ]
  },
  {
   "cell_type": "code",
   "execution_count": 4,
   "metadata": {},
   "outputs": [],
   "source": [
    "def compare_low(rpt_his_low,rpt_hat_low):\n",
    "    table_low = prettytable.PrettyTable(['metric', 'covar_his_low', 'covar_MGARCH_low'])\n",
    "    for (k, v) in rpt_his_low.items():\n",
    "        row = [k, v, rpt_hat_low[k]]\n",
    "        table_low.add_row(row)\n",
    "    print(table_low)\n",
    "    return table_low\n",
    "\n",
    "def compare_med(rpt_his_med,rpt_hat_med):\n",
    "    table_med = prettytable.PrettyTable(['metric', 'covar_his_med', 'covar_MGARCH_med'])\n",
    "    for (k, v) in rpt_his_med.items():\n",
    "        row = [k, v, rpt_hat_med[k]]\n",
    "        table_med.add_row(row)\n",
    "    print(table_med)\n",
    "    return table_med\n",
    "\n",
    "def compare_high(rpt_his_high,rpt_hat_high):\n",
    "    table_high = prettytable.PrettyTable(['metric', 'covar_his_high', 'covar_MGARCH_high'])\n",
    "    for (k, v) in rpt_his_high.items():\n",
    "        row = [k, v, rpt_hat_high[k]]\n",
    "        table_high.add_row(row)\n",
    "    print(table_high)\n",
    "    return table_high"
   ]
  },
  {
   "cell_type": "code",
   "execution_count": 5,
   "metadata": {},
   "outputs": [],
   "source": [
    "filenametab = []\n",
    "for filename in glob.glob('../outputdata/Stage2/Returns/*.csv'):\n",
    "    filenametab.append(filename)\n",
    "filenametab.sort(reverse=True)\n",
    "\n",
    "returns = pd.read_csv(filenametab[0], parse_dates=True)\n",
    "returns['date']= pd.to_datetime(returns.date)\n",
    "returns.set_index('date', inplace=True)"
   ]
  },
  {
   "cell_type": "code",
   "execution_count": 6,
   "metadata": {},
   "outputs": [
    {
     "data": {
      "text/plain": [
       "'../outputdata/Stage2/Returns\\\\SapiatStage2OutStage2OutputReturns20201012111638_504.csv'"
      ]
     },
     "execution_count": 6,
     "metadata": {},
     "output_type": "execute_result"
    }
   ],
   "source": [
    "filenametab[0]"
   ]
  },
  {
   "cell_type": "code",
   "execution_count": 7,
   "metadata": {},
   "outputs": [],
   "source": [
    "initial_investment = 100.00"
   ]
  },
  {
   "cell_type": "code",
   "execution_count": 8,
   "metadata": {},
   "outputs": [],
   "source": [
    "def apply_cumsum(returns_series):\n",
    "    cumsumret = (returns_series.add(1).cumprod()) * initial_investment\n",
    "    cumsumret.iat[0] = initial_investment\n",
    "    return cumsumret\n"
   ]
  },
  {
   "cell_type": "code",
   "execution_count": 9,
   "metadata": {},
   "outputs": [],
   "source": [
    "returns['ret_low_his_cum'] = apply_cumsum(returns.ret_low_his)\n",
    "returns['ret_low_hat_cum'] = apply_cumsum(returns.ret_low_hat)\n",
    "\n",
    "returns['ret_med_his_cum'] = apply_cumsum(returns.ret_med_his)\n",
    "returns['ret_med_hat_cum'] = apply_cumsum(returns.ret_med_hat)\n",
    "\n",
    "returns['ret_high_his_cum'] = apply_cumsum(returns.ret_med_his)\n",
    "returns['ret_high_hat_cum'] = apply_cumsum(returns.ret_med_hat)"
   ]
  },
  {
   "cell_type": "code",
   "execution_count": 10,
   "metadata": {},
   "outputs": [
    {
     "name": "stdout",
     "output_type": "stream",
     "text": [
      "            ret_low_his_cum  ret_low_his\n",
      "date                                    \n",
      "2010-04-01       100.000000    -0.000306\n",
      "2010-04-05       100.115666     0.001463\n",
      "2010-04-06       100.374905     0.002589\n",
      "2010-04-07       100.511432     0.001360\n",
      "2010-04-08       100.629635     0.001176\n",
      "...                     ...          ...\n",
      "2020-03-25       138.885678     0.001508\n",
      "2020-03-26       141.365299     0.017854\n",
      "2020-03-27       139.546228    -0.012868\n",
      "2020-03-30       140.792106     0.008928\n",
      "2020-03-31       139.959188    -0.005916\n",
      "\n",
      "[2479 rows x 2 columns]\n"
     ]
    }
   ],
   "source": [
    "print(returns[['ret_low_his_cum','ret_low_his']])"
   ]
  },
  {
   "cell_type": "code",
   "execution_count": null,
   "metadata": {},
   "outputs": [],
   "source": []
  },
  {
   "cell_type": "code",
   "execution_count": 11,
   "metadata": {},
   "outputs": [
    {
     "name": "stdout",
     "output_type": "stream",
     "text": [
      "+--------------------+------------------------+------------------------+\n",
      "|       metric       |     covar_his_low      |    covar_MGARCH_low    |\n",
      "+--------------------+------------------------+------------------------+\n",
      "|        mean        | 0.00014194283915847452 | 0.00015056112332552965 |\n",
      "| avg_annualized_ret |  0.03641439298404303   |  0.03866740180834349   |\n",
      "|   geometric_mean   | 0.0001356206033298335  | 0.00014037143504674887 |\n",
      "|   cum_end_return   |      [0.3518763]       |      [0.37324102]      |\n",
      "|      std_dev       |  0.00355269285450384   |  0.004506496688490014  |\n",
      "|   annualized_std   |  0.05639725066568003   |  0.07153841713128414   |\n",
      "|    Sharpe_ratio    |   0.4569299950576741   |  0.39057899515384364   |\n",
      "|      skewness      |  -0.7526061551855804   |  -1.0779547970318388   |\n",
      "|      kurtosis      |   24.31800278423236    |   36.68680023298243    |\n",
      "|      drawdown      |  -2.1660284193108614   |   -2.199158605178767   |\n",
      "|      win_loss      |   1.1519097222222223   |   1.129725085910653    |\n",
      "|     win_ratio      |   0.5352964905203711   |   0.5304558289632917   |\n",
      "|       count        |          2479          |          2479          |\n",
      "+--------------------+------------------------+------------------------+\n"
     ]
    }
   ],
   "source": [
    "compare_low(summary_metrics(returns.ret_low_his),summary_metrics(returns.ret_low_hat));"
   ]
  },
  {
   "cell_type": "code",
   "execution_count": 12,
   "metadata": {},
   "outputs": [
    {
     "data": {
      "application/vnd.jupyter.widget-view+json": {
       "model_id": "0ac0406cd5344b999453b7d1ee9baede",
       "version_major": 2,
       "version_minor": 0
      },
      "text/plain": [
       "interactive(children=(FloatRangeSlider(value=(2012.5, 2017.5), description='Year', layout=Layout(width='900px'…"
      ]
     },
     "metadata": {},
     "output_type": "display_data"
    }
   ],
   "source": [
    "# final_csv_output_plt = returns[[col for col in returns.columns if col.startswith('ret_')]]\n",
    "final_csv_output_plt = returns\n",
    "final_csv_output_plt['year'] = returns.index.year\n",
    "xmin = final_csv_output_plt.year.unique().min()\n",
    "xmax = final_csv_output_plt.year.unique().max()\n",
    "slider = widgets.FloatRangeSlider(\n",
    "    min=xmin,\n",
    "    max=xmax,\n",
    "    step=1,\n",
    "    readout=True,\n",
    "    readout_format='d',\n",
    "    orientation='horizontal',\n",
    "    description='Year')\n",
    "slider.layout.width = '900px'\n",
    "def update_plot(y):\n",
    "    filtered_df = final_csv_output_plt.query( 'year>= ' + str(y[0]) +'and year<= ' + str(y[1]) )\n",
    "    pyo.iplot(go.Figure(data=[\n",
    "    go.Scatter(x=filtered_df.index, y = filtered_df.ret_low_hat_cum,mode = 'lines',name = 'Low Risk MGARCH Return'),\n",
    "    go.Scatter(x=filtered_df.index,y = filtered_df.ret_low_his_cum,mode = 'lines',name = 'Low Risk Historical Return'),\n",
    "        \n",
    "#     go.Scatter(x=filtered_df.index, y = np.cumsum(filtered_df.ret_low_hat),mode = 'lines',name = 'Low Risk MGARCH Return'),\n",
    "#     go.Scatter(x=filtered_df.index,y = np.cumsum(filtered_df.ret_low_his),mode = 'lines',name = 'Low Risk Historical Return'),\n",
    "#     go.Scatter(x=filtered_df.index,y = np.cumsum(filtered_df.equity_daily_ret),mode = 'lines',name = 'Daily Equity Return'),\n",
    "#     go.Scatter(x=filtered_df.index,y = np.cumsum(filtered_df.bond_daily_ret),mode = 'lines',name = 'Daily Bond Return'),\n",
    "#     go.Scatter(x=filtered_df.index,y = np.cumsum(filtered_df.gold_daily_ret),mode = 'lines',name = 'Daily Gold Return'),\n",
    "#     go.Scatter(x=filtered_df.index,y = np.cumsum(filtered_df.forex_daily_ret),mode = 'lines',name = 'Daily Forex Return'),\n",
    "    ],\n",
    "    layout=go.Layout(xaxis = dict(title = 'Year'), yaxis = dict(title = 'Return in USD'),title = 'Low(0.002) Risk Portfolio(S&P500,Fed T-bonds,Gold&Forex(USD)) MGARCH/Historical Return from Year ' + str(int(y[0])) + ' To ' + str(int(y[1])))))\n",
    "widgets.interact(update_plot, y=slider, continuous_update=False);"
   ]
  },
  {
   "cell_type": "code",
   "execution_count": 13,
   "metadata": {},
   "outputs": [
    {
     "name": "stdout",
     "output_type": "stream",
     "text": [
      "+--------------------+------------------------+------------------------+\n",
      "|       metric       |     covar_his_med      |    covar_MGARCH_med    |\n",
      "+--------------------+------------------------+------------------------+\n",
      "|        mean        | 0.00021757248803828155 | 0.00021675715917360364 |\n",
      "| avg_annualized_ret |  0.05635288756339918   |  0.05613591567253762   |\n",
      "|   geometric_mean   | 0.0002003100117842216  | 0.00018786171089524295 |\n",
      "|   cum_end_return   |      [0.5393622]       |       [0.537341]       |\n",
      "|      std_dev       |  0.005865781029890114  |  0.007576620374798872  |\n",
      "|   annualized_std   |  0.09311638710149744   |  0.12027511974037683   |\n",
      "|    Sharpe_ratio    |  0.48142188911156814   |  0.37100610839606646   |\n",
      "|      skewness      |  -0.8120991068963196   |  -1.0936810616555874   |\n",
      "|      kurtosis      |   23.864857464212264   |   45.382245062181106   |\n",
      "|      drawdown      |   -2.134214859098237   |   -2.246285959674413   |\n",
      "|      win_loss      |   1.1726555652936022   |   1.1407599309153713   |\n",
      "|     win_ratio      |   0.5397337636143607   |   0.5328761597418313   |\n",
      "|       count        |          2479          |          2479          |\n",
      "+--------------------+------------------------+------------------------+\n"
     ]
    }
   ],
   "source": [
    "compare_med(summary_metrics(returns.ret_med_his),summary_metrics(returns.ret_med_hat));"
   ]
  },
  {
   "cell_type": "code",
   "execution_count": 14,
   "metadata": {},
   "outputs": [
    {
     "data": {
      "application/vnd.jupyter.widget-view+json": {
       "model_id": "94dcf4b7b0b94a2582b134b8b16effa5",
       "version_major": 2,
       "version_minor": 0
      },
      "text/plain": [
       "interactive(children=(FloatRangeSlider(value=(2012.5, 2017.5), description='Year', layout=Layout(width='900px'…"
      ]
     },
     "metadata": {},
     "output_type": "display_data"
    }
   ],
   "source": [
    "final_csv_output_plt = returns[[col for col in returns.columns if col.startswith('ret_')]]\n",
    "final_csv_output_plt['year'] = returns.index.year\n",
    "xmin = final_csv_output_plt.year.unique().min()\n",
    "xmax = final_csv_output_plt.year.unique().max()\n",
    "slider = widgets.FloatRangeSlider(\n",
    "    min=xmin,\n",
    "    max=xmax,\n",
    "    step=1,\n",
    "    readout=True,\n",
    "    readout_format='d',\n",
    "    orientation='horizontal',\n",
    "    description='Year')\n",
    "slider.layout.width = '900px'\n",
    "def update_plot(y):\n",
    "    filtered_df = final_csv_output_plt.query( 'year>= ' + str(y[0]) +'and year<= ' + str(y[1]) )\n",
    "    pyo.iplot(go.Figure(data=[\n",
    "       \n",
    "#     go.Scatter(x=filtered_df.index,y = np.cumsum(filtered_df.ret_med_hat),mode = 'lines',name = 'Medium Risk MGARCH Return'),\n",
    "#     go.Scatter(x=filtered_df.index,y = np.cumsum(filtered_df.ret_med_his),mode = 'lines',name = 'Medium Risk Historical Return'),\n",
    "    go.Scatter(x=filtered_df.index,y = filtered_df.ret_med_hat_cum,mode = 'lines',name = 'Medium Risk MGARCH Return'),\n",
    "    go.Scatter(x=filtered_df.index,y = filtered_df.ret_med_his_cum,mode = 'lines',name = 'Medium Risk Historical Return'),\n",
    "\n",
    "    ],\n",
    "    layout=go.Layout(xaxis = dict(title = 'Year'), yaxis = dict(title = 'Return in USD'),title = 'Medium(0.006) Risk Portfolio(S&P500,Fed T-bonds,Gold&Forex(USD)) MGARCH/Historical Return from Year ' + str(int(y[0])) + ' To ' + str(int(y[1])))))\n",
    "widgets.interact(update_plot, y=slider, continuous_update=False);"
   ]
  },
  {
   "cell_type": "code",
   "execution_count": 15,
   "metadata": {},
   "outputs": [
    {
     "name": "stdout",
     "output_type": "stream",
     "text": [
      "+--------------------+-----------------------+------------------------+\n",
      "|       metric       |     covar_his_high    |   covar_MGARCH_high    |\n",
      "+--------------------+-----------------------+------------------------+\n",
      "|        mean        | 0.0002471503017070321 | 0.00023170901649867943 |\n",
      "| avg_annualized_ret |  0.06425410277647581  |  0.060121907280793474  |\n",
      "|   geometric_mean   | 0.0002151671656414056 | 0.00019161098420528155 |\n",
      "|   cum_end_return   |      [0.6126856]      |      [0.57440665]      |\n",
      "|      std_dev       |  0.007978264215074788 |  0.008926015658775072  |\n",
      "|   annualized_std   |  0.12665101804232298  |  0.14169610579072328   |\n",
      "|    Sharpe_ratio    |   0.4128026512404429  |  0.34151024749499725   |\n",
      "|      skewness      |  -0.8019179144950634  |  -0.8874874062692555   |\n",
      "|      kurtosis      |   25.413564313173033  |    34.2705342724524    |\n",
      "|      drawdown      |  -2.2107484449700716  |  -2.2772361812279316   |\n",
      "|      win_loss      |   1.1669580419580419  |   1.1707530647985989   |\n",
      "|     win_ratio      |   0.5385235982250908  |   0.5393303751512707   |\n",
      "|       count        |          2479         |          2479          |\n",
      "+--------------------+-----------------------+------------------------+\n"
     ]
    }
   ],
   "source": [
    "compare_high(summary_metrics(returns.ret_high_his),summary_metrics(returns.ret_high_hat));"
   ]
  },
  {
   "cell_type": "code",
   "execution_count": 16,
   "metadata": {},
   "outputs": [
    {
     "data": {
      "application/vnd.jupyter.widget-view+json": {
       "model_id": "df21bd4bce4249e585f34585f00eeaf8",
       "version_major": 2,
       "version_minor": 0
      },
      "text/plain": [
       "interactive(children=(FloatRangeSlider(value=(2012.5, 2017.5), description='Year', layout=Layout(width='900px'…"
      ]
     },
     "metadata": {},
     "output_type": "display_data"
    }
   ],
   "source": [
    "final_csv_output_plt = returns[[col for col in returns.columns if col.startswith('ret_')]]\n",
    "final_csv_output_plt['year'] = returns.index.year\n",
    "xmin = final_csv_output_plt.year.unique().min()\n",
    "xmax = final_csv_output_plt.year.unique().max()\n",
    "slider = widgets.FloatRangeSlider(\n",
    "    min=xmin,\n",
    "    max=xmax,\n",
    "    step=1,\n",
    "    readout=True,\n",
    "    readout_format='d',\n",
    "    orientation='horizontal',\n",
    "    description='Year')\n",
    "slider.layout.width = '900px'\n",
    "def update_plot(y):\n",
    "    filtered_df = final_csv_output_plt.query( 'year>= ' + str(y[0]) +'and year<= ' + str(y[1]) )\n",
    "    pyo.iplot(go.Figure(data=[\n",
    "#     go.Scatter(x=filtered_df.index,y = np.cumsum(filtered_df.ret_high_hat),mode = 'lines',name = 'High Risk MGARCH Return'),\n",
    "#     go.Scatter(x=filtered_df.index,y = np.cumsum(filtered_df.ret_high_his),mode = 'lines',name = 'High Risk Historical Return')\n",
    "    go.Scatter(x=filtered_df.index,y = filtered_df.ret_high_hat_cum,mode = 'lines',name = 'High Risk MGARCH Return'),\n",
    "    go.Scatter(x=filtered_df.index,y = filtered_df.ret_high_his_cum,mode = 'lines',name = 'High Risk Historical Return')\n",
    "   ],\n",
    "    layout=go.Layout(xaxis = dict(title = 'Year'), yaxis = dict(title = 'Return in USD'),title = 'High(0.01) Risk Portfolio(S&P500, US Fed T-bonds, Gold & Forex(USD)) MGARCH/Historical Return from Year ' + str(int(y[0])) + ' To ' + str(int(y[1])))))\n",
    "widgets.interact(update_plot, y=slider, continuous_update=False);"
   ]
  },
  {
   "cell_type": "markdown",
   "metadata": {},
   "source": [
    "## Potential Metrics\n",
    "\n",
    "- Compounded daily return charts\n",
    "- Geometric returns --> Annualized return/Total return\n",
    "- Compounded geometric return charts\n",
    "- Win ratio\n",
    "- Drawdown"
   ]
  },
  {
   "cell_type": "markdown",
   "metadata": {},
   "source": [
    "## Compounded daily return <li> https://stackoverflow.com/questions/5515021/compute-a-compounded-return-series-in-python </li>"
   ]
  },
  {
   "cell_type": "code",
   "execution_count": 13,
   "metadata": {},
   "outputs": [],
   "source": [
    "returns['comp_low_ret_hat'] = 0.00\n",
    "returns['comp_med_ret_hat'] = 0.00\n",
    "returns['comp_high_ret_hat'] = 0.00\n",
    "returns['comp_low_ret_hat'].iloc[0] = returns['ret_low_hat'].iloc[0]\n",
    "returns['comp_med_ret_hat'].iloc[0] = returns['ret_med_hat'].iloc[0]\n",
    "returns['comp_high_ret_hat'].iloc[0] = returns['ret_high_hat'].iloc[0]\n",
    "for i in range(1, len(returns)):\n",
    "    returns['comp_low_ret_hat'].iloc[i] = (1 + returns['comp_low_ret_hat'].iloc[i-1]) * (1 + returns['ret_low_hat'].iloc[i]) - 1\n",
    "    returns['comp_med_ret_hat'].iloc[i] = (1 + returns['comp_med_ret_hat'].iloc[i-1]) * (1 + returns['ret_med_hat'].iloc[i]) - 1\n",
    "    returns['comp_high_ret_hat'].iloc[i] = (1 + returns['comp_high_ret_hat'].iloc[i-1]) * (1 + returns['ret_high_hat'].iloc[i]) - 1"
   ]
  },
  {
   "cell_type": "code",
   "execution_count": 14,
   "metadata": {},
   "outputs": [
    {
     "data": {
      "application/vnd.jupyter.widget-view+json": {
       "model_id": "f16989a2e638421cab877a5e547ec303",
       "version_major": 2,
       "version_minor": 0
      },
      "text/plain": [
       "interactive(children=(FloatRangeSlider(value=(2010.25, 2014.75), description='Year', layout=Layout(width='900p…"
      ]
     },
     "metadata": {},
     "output_type": "display_data"
    }
   ],
   "source": [
    "final_csv_output_plt = returns[[col for col in returns.columns if col.startswith('comp_')]]\n",
    "final_csv_output_plt['year'] = returns.index.year\n",
    "xmin = final_csv_output_plt.year.unique().min()\n",
    "xmax = final_csv_output_plt.year.unique().max()\n",
    "slider = widgets.FloatRangeSlider(\n",
    "    min=xmin,\n",
    "    max=xmax,\n",
    "    step=1,\n",
    "    readout=True,\n",
    "    readout_format='d',\n",
    "    orientation='horizontal',\n",
    "    description='Year')\n",
    "slider.layout.width = '900px'\n",
    "def update_plot(y):\n",
    "    filtered_df = final_csv_output_plt.query( 'year>= ' + str(y[0]) +'and year<= ' + str(y[1]) )\n",
    "    pyo.iplot(go.Figure(data=[\n",
    "    go.Scatter(x=filtered_df.index, y = np.cumsum(filtered_df.comp_low_ret_hat),mode = 'lines',name = 'Low Risk'),      \n",
    "    go.Scatter(x=filtered_df.index,y = np.cumsum(filtered_df.comp_med_ret_hat),mode = 'lines',name = 'Medium Risk'),\n",
    "    go.Scatter(x=filtered_df.index,y = np.cumsum(filtered_df.comp_high_ret_hat),mode = 'lines',name = 'High Risk'),        \n",
    "],\n",
    "    layout=go.Layout(xaxis = dict(title = 'Year'), yaxis = dict(title = 'Returns'),title = 'Compounded Daily Return Forecast from Year ' + str(int(y[0])) + ' To ' + str(int(y[1])))))\n",
    "widgets.interact(update_plot, y=slider, continuous_update=False);"
   ]
  },
  {
   "cell_type": "markdown",
   "metadata": {},
   "source": [
    "## Win Ratio -> https://www.investopedia.com/terms/w/win-loss-ratio.asp"
   ]
  },
  {
   "cell_type": "code",
   "execution_count": 15,
   "metadata": {},
   "outputs": [],
   "source": [
    "# final_csv_output_plt = returns[[col for col in returns.columns if col.endswith('comp_')]]\n",
    "returns_temp = returns.copy()\n",
    "returns_temp['year'] = returns_temp.index.year\n",
    "winratio = pd.DataFrame()\n",
    "winratio['year'] = returns_temp.year.unique()\n",
    "winratio['winration_low'] = 0.00\n",
    "winratio['winration_med'] = 0.00\n",
    "winratio['winration_high'] = 0.00\n",
    "for i,year in enumerate(returns_temp.year.unique()):\n",
    "    subpos = returns[(returns_temp['year'] == year)]\n",
    "    positive_n = sum(n > 0 for n in returns_temp.ret_low_hat.values.flatten())\n",
    "    negative_n = sum(n < 0 for n in returns_temp.ret_low_hat.values.flatten())\n",
    "    winratio['winration_low'].iloc[i] = positive_n / negative_n\n",
    "    \n",
    "    positive_n = sum(n > 0 for n in returns_temp.ret_med_hat.values.flatten())\n",
    "    negative_n = sum(n < 0 for n in returns_temp.ret_med_hat.values.flatten())\n",
    "    winratio['winration_med'].iloc[i] = positive_n / negative_n\n",
    "    \n",
    "    positive_n = sum(n > 0 for n in returns_temp.ret_high_hat.values.flatten())\n",
    "    negative_n = sum(n < 0 for n in returns_temp.ret_high_hat.values.flatten())\n",
    "    winratio['winration_high'].iloc[i] = positive_n / negative_n\n",
    "    \n",
    "# winratio.set_index('year', inplace=True)"
   ]
  },
  {
   "cell_type": "code",
   "execution_count": 16,
   "metadata": {},
   "outputs": [
    {
     "data": {
      "application/vnd.jupyter.widget-view+json": {
       "model_id": "b82d8795c47847dd98b5f436ca5dfff7",
       "version_major": 2,
       "version_minor": 0
      },
      "text/plain": [
       "interactive(children=(FloatRangeSlider(value=(2010.25, 2014.75), description='Year', layout=Layout(width='900p…"
      ]
     },
     "metadata": {},
     "output_type": "display_data"
    }
   ],
   "source": [
    "xmin = winratio.year.unique().min()\n",
    "xmax = winratio.year.unique().max()\n",
    "# winratio.set_index('year', inplace=True)\n",
    "slider = widgets.FloatRangeSlider(\n",
    "    min=xmin,\n",
    "    max=xmax,\n",
    "    step=1,\n",
    "    readout=True,\n",
    "    readout_format='d',\n",
    "    orientation='horizontal',\n",
    "    description='Year')\n",
    "slider.layout.width = '900px'\n",
    "def update_plot(y):\n",
    "    filtered_df = winratio.query( 'year>= ' + str(y[0]) +'and year<= ' + str(y[1]) )\n",
    "    pyo.iplot(go.Figure(data=[\n",
    "    go.Scatter(x=filtered_df.index, y = filtered_df.winration_low,mode = 'lines',name = 'Low Risk'),      \n",
    "    go.Scatter(x=filtered_df.index,y = filtered_df.winration_med,mode = 'lines',name = 'Medium Risk'),\n",
    "    go.Scatter(x=filtered_df.index,y = filtered_df.winration_high,mode = 'lines',name = 'High Risk'),        \n",
    "],\n",
    "    layout=go.Layout(xaxis = dict(title = 'quarter'), yaxis = dict(title = 'Win Ratio'),title = 'Win Ratio on Return Forecast from Year ' + str(int(y[0])) + ' To ' + str(int(y[1])))))\n",
    "widgets.interact(update_plot, y=slider, continuous_update=False);"
   ]
  },
  {
   "cell_type": "markdown",
   "metadata": {},
   "source": [
    "## Quarterly Drowdown ration https://www.investopedia.com/terms/m/maximum-drawdown-mdd.asp"
   ]
  },
  {
   "cell_type": "code",
   "execution_count": 17,
   "metadata": {},
   "outputs": [],
   "source": [
    "returns_temp1 = returns[[col for col in returns.columns if col.endswith('_hat')]]\n",
    "returns_temp1['quarter'] = returns_temp1.index.year.astype(str) + '-Q' + returns_temp1.index.quarter.astype(str)\n",
    "# returns_temp1['quarter'] = returns_temp1.index.year.astype(str) + returns_temp1.index.quarter.astype(str)\n",
    "report_q = []\n",
    "for qtr in returns_temp1.quarter.unique():\n",
    "    \n",
    "    subpos = returns[(returns_temp1['quarter'] == qtr)]\n",
    "    \n",
    "    Troughvalue = min(subpos.ret_low_hat)\n",
    "    Peakvalue   = max(subpos.ret_low_hat)\n",
    "    mdd_qtr_low = (Troughvalue - Peakvalue)/Peakvalue #Do I need to take absolute Values?\n",
    "\n",
    "    Troughvalue = min(subpos.ret_med_hat)\n",
    "    Peakvalue   = max(subpos.ret_med_hat)\n",
    "    mdd_qtr_med = (Troughvalue - Peakvalue)/Peakvalue #Do I need to take absolute Values?    \n",
    "\n",
    "    Troughvalue = min(subpos.ret_high_hat)\n",
    "    Peakvalue   = max(subpos.ret_high_hat)\n",
    "    mdd_qtr_high = (Troughvalue - Peakvalue)/Peakvalue #Do I need to take absolute Values?\n",
    "\n",
    "    r = { 'quarter': qtr,\n",
    "          'mdd_qtr_low': mdd_qtr_low,\n",
    "          'mdd_qtr_med': mdd_qtr_med,\n",
    "          'mdd_qtr_high': mdd_qtr_high}\n",
    "    report_q += [r]\n",
    "df_mdd = pd.DataFrame(report_q)"
   ]
  },
  {
   "cell_type": "code",
   "execution_count": 18,
   "metadata": {},
   "outputs": [
    {
     "data": {
      "text/html": [
       "<div>\n",
       "<style scoped>\n",
       "    .dataframe tbody tr th:only-of-type {\n",
       "        vertical-align: middle;\n",
       "    }\n",
       "\n",
       "    .dataframe tbody tr th {\n",
       "        vertical-align: top;\n",
       "    }\n",
       "\n",
       "    .dataframe thead th {\n",
       "        text-align: right;\n",
       "    }\n",
       "</style>\n",
       "<table border=\"1\" class=\"dataframe\">\n",
       "  <thead>\n",
       "    <tr style=\"text-align: right;\">\n",
       "      <th></th>\n",
       "      <th>quarter</th>\n",
       "      <th>mdd_qtr_low</th>\n",
       "      <th>mdd_qtr_med</th>\n",
       "      <th>mdd_qtr_high</th>\n",
       "    </tr>\n",
       "  </thead>\n",
       "  <tbody>\n",
       "    <tr>\n",
       "      <th>0</th>\n",
       "      <td>2008-Q2</td>\n",
       "      <td>-2.574150</td>\n",
       "      <td>-2.582851</td>\n",
       "      <td>-2.576738</td>\n",
       "    </tr>\n",
       "    <tr>\n",
       "      <th>1</th>\n",
       "      <td>2008-Q3</td>\n",
       "      <td>-1.803724</td>\n",
       "      <td>-1.770639</td>\n",
       "      <td>-1.770639</td>\n",
       "    </tr>\n",
       "    <tr>\n",
       "      <th>2</th>\n",
       "      <td>2008-Q4</td>\n",
       "      <td>-1.574708</td>\n",
       "      <td>-2.038997</td>\n",
       "      <td>-2.038997</td>\n",
       "    </tr>\n",
       "    <tr>\n",
       "      <th>3</th>\n",
       "      <td>2009-Q1</td>\n",
       "      <td>-2.069594</td>\n",
       "      <td>-1.680610</td>\n",
       "      <td>-1.606693</td>\n",
       "    </tr>\n",
       "    <tr>\n",
       "      <th>4</th>\n",
       "      <td>2009-Q2</td>\n",
       "      <td>-2.487110</td>\n",
       "      <td>-2.221276</td>\n",
       "      <td>-2.329960</td>\n",
       "    </tr>\n",
       "    <tr>\n",
       "      <th>5</th>\n",
       "      <td>2009-Q3</td>\n",
       "      <td>-1.973372</td>\n",
       "      <td>-1.973867</td>\n",
       "      <td>-1.969473</td>\n",
       "    </tr>\n",
       "    <tr>\n",
       "      <th>6</th>\n",
       "      <td>2009-Q4</td>\n",
       "      <td>-1.833749</td>\n",
       "      <td>-1.838996</td>\n",
       "      <td>-2.186136</td>\n",
       "    </tr>\n",
       "    <tr>\n",
       "      <th>7</th>\n",
       "      <td>2010-Q1</td>\n",
       "      <td>-2.109994</td>\n",
       "      <td>-2.199983</td>\n",
       "      <td>-2.732574</td>\n",
       "    </tr>\n",
       "    <tr>\n",
       "      <th>8</th>\n",
       "      <td>2010-Q2</td>\n",
       "      <td>-2.086429</td>\n",
       "      <td>-1.912750</td>\n",
       "      <td>-1.912750</td>\n",
       "    </tr>\n",
       "    <tr>\n",
       "      <th>9</th>\n",
       "      <td>2010-Q3</td>\n",
       "      <td>-1.827286</td>\n",
       "      <td>-2.429005</td>\n",
       "      <td>-2.509590</td>\n",
       "    </tr>\n",
       "    <tr>\n",
       "      <th>10</th>\n",
       "      <td>2010-Q4</td>\n",
       "      <td>-1.801007</td>\n",
       "      <td>-1.804765</td>\n",
       "      <td>-1.817858</td>\n",
       "    </tr>\n",
       "    <tr>\n",
       "      <th>11</th>\n",
       "      <td>2011-Q1</td>\n",
       "      <td>-2.284754</td>\n",
       "      <td>-2.294605</td>\n",
       "      <td>-2.217715</td>\n",
       "    </tr>\n",
       "    <tr>\n",
       "      <th>12</th>\n",
       "      <td>2011-Q2</td>\n",
       "      <td>-2.550178</td>\n",
       "      <td>-2.558865</td>\n",
       "      <td>-2.611577</td>\n",
       "    </tr>\n",
       "    <tr>\n",
       "      <th>13</th>\n",
       "      <td>2011-Q3</td>\n",
       "      <td>-2.478856</td>\n",
       "      <td>-2.479945</td>\n",
       "      <td>-2.480198</td>\n",
       "    </tr>\n",
       "    <tr>\n",
       "      <th>14</th>\n",
       "      <td>2011-Q4</td>\n",
       "      <td>-1.830179</td>\n",
       "      <td>-2.133932</td>\n",
       "      <td>-2.166344</td>\n",
       "    </tr>\n",
       "    <tr>\n",
       "      <th>15</th>\n",
       "      <td>2012-Q1</td>\n",
       "      <td>-1.601394</td>\n",
       "      <td>-1.642693</td>\n",
       "      <td>-1.642693</td>\n",
       "    </tr>\n",
       "    <tr>\n",
       "      <th>16</th>\n",
       "      <td>2012-Q2</td>\n",
       "      <td>-1.879608</td>\n",
       "      <td>-1.880060</td>\n",
       "      <td>-1.851503</td>\n",
       "    </tr>\n",
       "    <tr>\n",
       "      <th>17</th>\n",
       "      <td>2012-Q3</td>\n",
       "      <td>-1.987560</td>\n",
       "      <td>-1.992942</td>\n",
       "      <td>-1.992942</td>\n",
       "    </tr>\n",
       "    <tr>\n",
       "      <th>18</th>\n",
       "      <td>2012-Q4</td>\n",
       "      <td>-2.269984</td>\n",
       "      <td>-2.251540</td>\n",
       "      <td>-2.526232</td>\n",
       "    </tr>\n",
       "    <tr>\n",
       "      <th>19</th>\n",
       "      <td>2013-Q1</td>\n",
       "      <td>-2.319592</td>\n",
       "      <td>-2.321115</td>\n",
       "      <td>-2.321115</td>\n",
       "    </tr>\n",
       "    <tr>\n",
       "      <th>20</th>\n",
       "      <td>2013-Q2</td>\n",
       "      <td>-2.046237</td>\n",
       "      <td>-2.054300</td>\n",
       "      <td>-2.726272</td>\n",
       "    </tr>\n",
       "    <tr>\n",
       "      <th>21</th>\n",
       "      <td>2013-Q3</td>\n",
       "      <td>-1.975164</td>\n",
       "      <td>-1.975812</td>\n",
       "      <td>-2.083679</td>\n",
       "    </tr>\n",
       "    <tr>\n",
       "      <th>22</th>\n",
       "      <td>2013-Q4</td>\n",
       "      <td>-1.757843</td>\n",
       "      <td>-1.767027</td>\n",
       "      <td>-1.782168</td>\n",
       "    </tr>\n",
       "    <tr>\n",
       "      <th>23</th>\n",
       "      <td>2014-Q1</td>\n",
       "      <td>-2.518246</td>\n",
       "      <td>-2.500538</td>\n",
       "      <td>-2.496273</td>\n",
       "    </tr>\n",
       "    <tr>\n",
       "      <th>24</th>\n",
       "      <td>2014-Q2</td>\n",
       "      <td>-2.213697</td>\n",
       "      <td>-2.208135</td>\n",
       "      <td>-2.074676</td>\n",
       "    </tr>\n",
       "    <tr>\n",
       "      <th>25</th>\n",
       "      <td>2014-Q3</td>\n",
       "      <td>-2.762097</td>\n",
       "      <td>-2.770866</td>\n",
       "      <td>-2.750577</td>\n",
       "    </tr>\n",
       "    <tr>\n",
       "      <th>26</th>\n",
       "      <td>2014-Q4</td>\n",
       "      <td>-1.891086</td>\n",
       "      <td>-1.887777</td>\n",
       "      <td>-1.887777</td>\n",
       "    </tr>\n",
       "    <tr>\n",
       "      <th>27</th>\n",
       "      <td>2015-Q1</td>\n",
       "      <td>-1.582567</td>\n",
       "      <td>-1.832477</td>\n",
       "      <td>-1.832477</td>\n",
       "    </tr>\n",
       "    <tr>\n",
       "      <th>28</th>\n",
       "      <td>2015-Q2</td>\n",
       "      <td>-2.464051</td>\n",
       "      <td>-2.184527</td>\n",
       "      <td>-2.184527</td>\n",
       "    </tr>\n",
       "    <tr>\n",
       "      <th>29</th>\n",
       "      <td>2015-Q3</td>\n",
       "      <td>-2.105753</td>\n",
       "      <td>-2.105753</td>\n",
       "      <td>-2.105753</td>\n",
       "    </tr>\n",
       "    <tr>\n",
       "      <th>30</th>\n",
       "      <td>2015-Q4</td>\n",
       "      <td>-2.630996</td>\n",
       "      <td>-2.656969</td>\n",
       "      <td>-2.656969</td>\n",
       "    </tr>\n",
       "    <tr>\n",
       "      <th>31</th>\n",
       "      <td>2016-Q1</td>\n",
       "      <td>-1.921647</td>\n",
       "      <td>-1.933816</td>\n",
       "      <td>-1.950512</td>\n",
       "    </tr>\n",
       "    <tr>\n",
       "      <th>32</th>\n",
       "      <td>2016-Q2</td>\n",
       "      <td>-1.590789</td>\n",
       "      <td>-1.594073</td>\n",
       "      <td>-1.494867</td>\n",
       "    </tr>\n",
       "    <tr>\n",
       "      <th>33</th>\n",
       "      <td>2016-Q3</td>\n",
       "      <td>-2.061423</td>\n",
       "      <td>-2.170537</td>\n",
       "      <td>-2.130711</td>\n",
       "    </tr>\n",
       "    <tr>\n",
       "      <th>34</th>\n",
       "      <td>2016-Q4</td>\n",
       "      <td>-1.568868</td>\n",
       "      <td>-1.561931</td>\n",
       "      <td>-1.560444</td>\n",
       "    </tr>\n",
       "    <tr>\n",
       "      <th>35</th>\n",
       "      <td>2017-Q1</td>\n",
       "      <td>-2.422017</td>\n",
       "      <td>-2.434680</td>\n",
       "      <td>-2.434680</td>\n",
       "    </tr>\n",
       "  </tbody>\n",
       "</table>\n",
       "</div>"
      ],
      "text/plain": [
       "    quarter  mdd_qtr_low  mdd_qtr_med  mdd_qtr_high\n",
       "0   2008-Q2    -2.574150    -2.582851     -2.576738\n",
       "1   2008-Q3    -1.803724    -1.770639     -1.770639\n",
       "2   2008-Q4    -1.574708    -2.038997     -2.038997\n",
       "3   2009-Q1    -2.069594    -1.680610     -1.606693\n",
       "4   2009-Q2    -2.487110    -2.221276     -2.329960\n",
       "5   2009-Q3    -1.973372    -1.973867     -1.969473\n",
       "6   2009-Q4    -1.833749    -1.838996     -2.186136\n",
       "7   2010-Q1    -2.109994    -2.199983     -2.732574\n",
       "8   2010-Q2    -2.086429    -1.912750     -1.912750\n",
       "9   2010-Q3    -1.827286    -2.429005     -2.509590\n",
       "10  2010-Q4    -1.801007    -1.804765     -1.817858\n",
       "11  2011-Q1    -2.284754    -2.294605     -2.217715\n",
       "12  2011-Q2    -2.550178    -2.558865     -2.611577\n",
       "13  2011-Q3    -2.478856    -2.479945     -2.480198\n",
       "14  2011-Q4    -1.830179    -2.133932     -2.166344\n",
       "15  2012-Q1    -1.601394    -1.642693     -1.642693\n",
       "16  2012-Q2    -1.879608    -1.880060     -1.851503\n",
       "17  2012-Q3    -1.987560    -1.992942     -1.992942\n",
       "18  2012-Q4    -2.269984    -2.251540     -2.526232\n",
       "19  2013-Q1    -2.319592    -2.321115     -2.321115\n",
       "20  2013-Q2    -2.046237    -2.054300     -2.726272\n",
       "21  2013-Q3    -1.975164    -1.975812     -2.083679\n",
       "22  2013-Q4    -1.757843    -1.767027     -1.782168\n",
       "23  2014-Q1    -2.518246    -2.500538     -2.496273\n",
       "24  2014-Q2    -2.213697    -2.208135     -2.074676\n",
       "25  2014-Q3    -2.762097    -2.770866     -2.750577\n",
       "26  2014-Q4    -1.891086    -1.887777     -1.887777\n",
       "27  2015-Q1    -1.582567    -1.832477     -1.832477\n",
       "28  2015-Q2    -2.464051    -2.184527     -2.184527\n",
       "29  2015-Q3    -2.105753    -2.105753     -2.105753\n",
       "30  2015-Q4    -2.630996    -2.656969     -2.656969\n",
       "31  2016-Q1    -1.921647    -1.933816     -1.950512\n",
       "32  2016-Q2    -1.590789    -1.594073     -1.494867\n",
       "33  2016-Q3    -2.061423    -2.170537     -2.130711\n",
       "34  2016-Q4    -1.568868    -1.561931     -1.560444\n",
       "35  2017-Q1    -2.422017    -2.434680     -2.434680"
      ]
     },
     "execution_count": 18,
     "metadata": {},
     "output_type": "execute_result"
    }
   ],
   "source": [
    "df_mdd"
   ]
  },
  {
   "cell_type": "code",
   "execution_count": 19,
   "metadata": {},
   "outputs": [
    {
     "ename": "TypeError",
     "evalue": "can't multiply sequence by non-int of type 'float'",
     "output_type": "error",
     "traceback": [
      "\u001b[1;31m---------------------------------------------------------------------------\u001b[0m",
      "\u001b[1;31mTypeError\u001b[0m                                 Traceback (most recent call last)",
      "\u001b[1;32m<ipython-input-19-8e26db7c9fc4>\u001b[0m in \u001b[0;36m<module>\u001b[1;34m\u001b[0m\n\u001b[0;32m      5\u001b[0m     \u001b[0mmax\u001b[0m\u001b[1;33m=\u001b[0m\u001b[0mxmax\u001b[0m\u001b[1;33m,\u001b[0m\u001b[1;33m\u001b[0m\u001b[1;33m\u001b[0m\u001b[0m\n\u001b[0;32m      6\u001b[0m     \u001b[0mstep\u001b[0m\u001b[1;33m=\u001b[0m\u001b[1;36m1\u001b[0m\u001b[1;33m,\u001b[0m\u001b[1;33m\u001b[0m\u001b[1;33m\u001b[0m\u001b[0m\n\u001b[1;32m----> 7\u001b[1;33m     \u001b[0mreadout\u001b[0m\u001b[1;33m=\u001b[0m\u001b[1;32mTrue\u001b[0m\u001b[1;33m\u001b[0m\u001b[1;33m\u001b[0m\u001b[0m\n\u001b[0m\u001b[0;32m      8\u001b[0m \u001b[1;31m#     readout_format='d',\u001b[0m\u001b[1;33m\u001b[0m\u001b[1;33m\u001b[0m\u001b[1;33m\u001b[0m\u001b[0m\n\u001b[0;32m      9\u001b[0m \u001b[1;31m#     orientation='horizontal',\u001b[0m\u001b[1;33m\u001b[0m\u001b[1;33m\u001b[0m\u001b[1;33m\u001b[0m\u001b[0m\n",
      "\u001b[1;32mC:\\ProgramData\\Anaconda3\\lib\\site-packages\\ipywidgets\\widgets\\widget_float.py\u001b[0m in \u001b[0;36m__init__\u001b[1;34m(self, *args, **kwargs)\u001b[0m\n\u001b[0;32m    290\u001b[0m         \u001b[0mmin\u001b[0m\u001b[1;33m,\u001b[0m \u001b[0mmax\u001b[0m \u001b[1;33m=\u001b[0m \u001b[0mkwargs\u001b[0m\u001b[1;33m.\u001b[0m\u001b[0mget\u001b[0m\u001b[1;33m(\u001b[0m\u001b[1;34m'min'\u001b[0m\u001b[1;33m,\u001b[0m \u001b[1;36m0.0\u001b[0m\u001b[1;33m)\u001b[0m\u001b[1;33m,\u001b[0m \u001b[0mkwargs\u001b[0m\u001b[1;33m.\u001b[0m\u001b[0mget\u001b[0m\u001b[1;33m(\u001b[0m\u001b[1;34m'max'\u001b[0m\u001b[1;33m,\u001b[0m \u001b[1;36m100.0\u001b[0m\u001b[1;33m)\u001b[0m\u001b[1;33m\u001b[0m\u001b[1;33m\u001b[0m\u001b[0m\n\u001b[0;32m    291\u001b[0m         \u001b[1;32mif\u001b[0m \u001b[0mkwargs\u001b[0m\u001b[1;33m.\u001b[0m\u001b[0mget\u001b[0m\u001b[1;33m(\u001b[0m\u001b[1;34m'value'\u001b[0m\u001b[1;33m,\u001b[0m \u001b[1;32mNone\u001b[0m\u001b[1;33m)\u001b[0m \u001b[1;32mis\u001b[0m \u001b[1;32mNone\u001b[0m\u001b[1;33m:\u001b[0m\u001b[1;33m\u001b[0m\u001b[1;33m\u001b[0m\u001b[0m\n\u001b[1;32m--> 292\u001b[1;33m             kwargs['value'] = (0.75 * min + 0.25 * max,\n\u001b[0m\u001b[0;32m    293\u001b[0m                                0.25 * min + 0.75 * max)\n\u001b[0;32m    294\u001b[0m         \u001b[0msuper\u001b[0m\u001b[1;33m(\u001b[0m\u001b[0m_BoundedFloatRange\u001b[0m\u001b[1;33m,\u001b[0m \u001b[0mself\u001b[0m\u001b[1;33m)\u001b[0m\u001b[1;33m.\u001b[0m\u001b[0m__init__\u001b[0m\u001b[1;33m(\u001b[0m\u001b[1;33m*\u001b[0m\u001b[0margs\u001b[0m\u001b[1;33m,\u001b[0m \u001b[1;33m**\u001b[0m\u001b[0mkwargs\u001b[0m\u001b[1;33m)\u001b[0m\u001b[1;33m\u001b[0m\u001b[1;33m\u001b[0m\u001b[0m\n",
      "\u001b[1;31mTypeError\u001b[0m: can't multiply sequence by non-int of type 'float'"
     ]
    }
   ],
   "source": [
    "xmin = df_mdd.quarter.unique().min()\n",
    "xmax = df_mdd.quarter.unique().max()\n",
    "slider = widgets.FloatRangeSlider(\n",
    "    min=xmin,\n",
    "    max=xmax,\n",
    "    step=1,\n",
    "    readout=True\n",
    "#     readout_format='d',\n",
    "#     orientation='horizontal',\n",
    "#     description='quarter'\n",
    ")\n",
    "slider.layout.width = '900px'\n",
    "def update_plot(y):\n",
    "    filtered_df = df_mdd.query( 'quarter>= ' + str(y[0]) +'and quarter<= ' + str(y[1]) )\n",
    "    pyo.iplot(go.Figure(data=[\n",
    "    go.Scatter(x=filtered_df.quarter, y = filtered_df.mdd_qtr_low,mode = 'lines',name = 'Low Risk'),      \n",
    "    go.Scatter(x=filtered_df.quarter,y = filtered_df.mdd_qtr_med,mode = 'lines',name = 'Medium Risk'),\n",
    "    go.Scatter(x=filtered_df.quarter,y = filtered_df.mdd_qtr_high,mode = 'lines',name = 'High Risk'),        \n",
    "],\n",
    "    layout=go.Layout(xaxis = dict(title = 'quarter'), yaxis = dict(title = 'Win Ratio'),title = 'Win Ratio on Return Forecast from Year ' + str(int(y[0])) + ' To ' + str(int(y[1])))))\n",
    "widgets.interact(update_plot, y=slider, continuous_update=False);"
   ]
  },
  {
   "cell_type": "code",
   "execution_count": null,
   "metadata": {},
   "outputs": [],
   "source": []
  },
  {
   "cell_type": "code",
   "execution_count": null,
   "metadata": {},
   "outputs": [],
   "source": []
  },
  {
   "cell_type": "code",
   "execution_count": null,
   "metadata": {},
   "outputs": [],
   "source": []
  }
 ],
 "metadata": {
  "kernelspec": {
   "display_name": "Python 3",
   "language": "python",
   "name": "python3"
  },
  "language_info": {
   "codemirror_mode": {
    "name": "ipython",
    "version": 3
   },
   "file_extension": ".py",
   "mimetype": "text/x-python",
   "name": "python",
   "nbconvert_exporter": "python",
   "pygments_lexer": "ipython3",
   "version": "3.7.4"
  }
 },
 "nbformat": 4,
 "nbformat_minor": 4
}
